{
 "cells": [
  {
   "cell_type": "code",
   "execution_count": 16,
   "id": "138e67b1",
   "metadata": {},
   "outputs": [],
   "source": [
    "# 0 -> black\n",
    "# 255 -> white\n",
    "class Color:\n",
    "    END = '\\033[0'\n",
    "    START = '\\033[1;38;2'\n",
    "    MOD = 'm'\n",
    "    def __init__(self, *args):\n",
    "        self.rgb = tuple(map(self._normalize, args))\n",
    "        \n",
    "    def __repr__(self) -> str:\n",
    "        return f'{self.START};{self.rgb[0]};{self.rgb[1]};{self.rgb[2]}{self.MOD}●{self.END}{self.MOD}'\n",
    "\n",
    "    def __eq__(self, other):\n",
    "#         if not isinstance(other, Color):\n",
    "#             raise TypeError('Other should be instance of Color')\n",
    "        if not isinstance(other, self.__class__):\n",
    "            return False\n",
    "        return self.rgb == other.rgb\n",
    "    \n",
    "    def __hash__(self):\n",
    "         return hash(self.rgb)\n",
    "    \n",
    "    def __add__(self, other):\n",
    "        return Color(self.rgb[0] + other.rgb[0]\n",
    "                     ,self.rgb[1] + other.rgb[1]\n",
    "                     ,self.rgb[2] + other.rgb[2])\n",
    "    \n",
    "        \n",
    "    def __mul__(self, c: float):\n",
    "        if c < 0 or c > 1:\n",
    "            raise ValueError(\"c should be between 0 and 1\")\n",
    "        cl = -256 * (1 - c)\n",
    "        F = (259 * (cl + 255)) / (255 * (259 - cl))\n",
    "        \n",
    "        return Color(\n",
    "             int(F * (self.rgb[0] - 128) + 128)\n",
    "            ,int(F * (self.rgb[1] - 128) + 128)\n",
    "            ,int(F * (self.rgb[2] - 128) + 128)\n",
    "        )\n",
    "    \n",
    "    def __rmul__(self, c: float):\n",
    "        return self.__mul__(c)\n",
    "        \n",
    "    def _normalize(self, color_level: int) -> int:\n",
    "        return max(min(color_level, 255), 0)\n",
    "    \n",
    "red = Color(255, 0, 0)\n",
    "red2 = Color(255, 0, 0)\n",
    "green = Color(0, 255, 0)\n",
    "white = Color(255, 255, 255)"
   ]
  },
  {
   "cell_type": "code",
   "execution_count": null,
   "id": "81844a21",
   "metadata": {},
   "outputs": [],
   "source": [
    "# OrderedDict \n",
    "# move_to_end"
   ]
  },
  {
   "cell_type": "code",
   "execution_count": 2,
   "id": "7289f66f",
   "metadata": {},
   "outputs": [
    {
     "data": {
      "text/plain": [
       "False"
      ]
     },
     "execution_count": 2,
     "metadata": {},
     "output_type": "execute_result"
    }
   ],
   "source": [
    "Color(0, 0, 0) == 3"
   ]
  },
  {
   "cell_type": "code",
   "execution_count": 5,
   "id": "babc7729",
   "metadata": {},
   "outputs": [
    {
     "data": {
      "text/plain": [
       "False"
      ]
     },
     "execution_count": 5,
     "metadata": {},
     "output_type": "execute_result"
    }
   ],
   "source": [
    "3 == Color(0, 0, 0) "
   ]
  },
  {
   "cell_type": "code",
   "execution_count": 6,
   "id": "2debff04",
   "metadata": {},
   "outputs": [
    {
     "data": {
      "text/plain": [
       "True"
      ]
     },
     "execution_count": 6,
     "metadata": {},
     "output_type": "execute_result"
    }
   ],
   "source": [
    "3 != Color(0, 0, 0)"
   ]
  },
  {
   "cell_type": "code",
   "execution_count": 7,
   "id": "04b99ce5",
   "metadata": {},
   "outputs": [
    {
     "data": {
      "text/plain": [
       "True"
      ]
     },
     "execution_count": 7,
     "metadata": {},
     "output_type": "execute_result"
    }
   ],
   "source": [
    "Color(0, 0, 0) != 3"
   ]
  },
  {
   "cell_type": "code",
   "execution_count": 8,
   "id": "dc9fc73a",
   "metadata": {},
   "outputs": [
    {
     "data": {
      "text/plain": [
       "{\u001b[1;38;2;0;255;0m●\u001b[0m, \u001b[1;38;2;255;0;0m●\u001b[0m, \u001b[1;38;2;255;165;0m●\u001b[0m}"
      ]
     },
     "execution_count": 8,
     "metadata": {},
     "output_type": "execute_result"
    }
   ],
   "source": [
    "orange1 = Color(255, 165, 0)\n",
    "red = Color(255, 0, 0)\n",
    "green = Color(0, 255, 0)\n",
    "orange2 = Color(255, 165, 0)\n",
    "\n",
    "color_list = [orange1, red, green, orange2]\n",
    "set(color_list)"
   ]
  },
  {
   "cell_type": "code",
   "execution_count": 11,
   "id": "5671d91b",
   "metadata": {},
   "outputs": [
    {
     "name": "stdout",
     "output_type": "stream",
     "text": [
      "\u001b[1;38;2;255;255;0m●\u001b[0m\n"
     ]
    }
   ],
   "source": [
    "yellow = red + green\n",
    "print(yellow)"
   ]
  },
  {
   "cell_type": "code",
   "execution_count": 15,
   "id": "765a2ba6",
   "metadata": {},
   "outputs": [
    {
     "name": "stdout",
     "output_type": "stream",
     "text": [
      "\u001b[1;38;2;231;23;23m●\u001b[0m\n",
      "\u001b[1;38;2;231;23;23m●\u001b[0m\n",
      "\u001b[1;38;2;170;85;85m●\u001b[0m\n",
      "\u001b[1;38;2;134;121;121m●\u001b[0m\n"
     ]
    }
   ],
   "source": [
    "print(0.9 * red)\n",
    "print(red * 0.9)\n",
    "print(0.5 * red)\n",
    "print(0.1 * red)"
   ]
  },
  {
   "cell_type": "code",
   "execution_count": 21,
   "id": "2b52ddf9",
   "metadata": {},
   "outputs": [
    {
     "name": "stdout",
     "output_type": "stream",
     "text": [
      "\u001b[1;38;2;123;132;132m●\u001b[0m\u001b[1;38;2;123;132;132m●\u001b[0m\u001b[1;38;2;123;132;132m●\u001b[0m\u001b[1;38;2;123;132;132m●\u001b[0m\u001b[1;38;2;123;132;132m●\u001b[0m\u001b[1;38;2;123;132;132m●\u001b[0m\u001b[1;38;2;123;132;132m●\u001b[0m\u001b[1;38;2;123;132;132m●\u001b[0m\u001b[1;38;2;123;132;132m●\u001b[0m\u001b[1;38;2;123;132;132m●\u001b[0m\u001b[1;38;2;123;132;132m●\u001b[0m\u001b[1;38;2;123;132;132m●\u001b[0m\u001b[1;38;2;123;132;132m●\u001b[0m\u001b[1;38;2;123;132;132m●\u001b[0m\u001b[1;38;2;123;132;132m●\u001b[0m\u001b[1;38;2;123;132;132m●\u001b[0m\u001b[1;38;2;123;132;132m●\u001b[0m\u001b[1;38;2;123;132;132m●\u001b[0m\u001b[1;38;2;123;132;132m●\u001b[0m\n",
      "\u001b[1;38;2;123;132;132m●\u001b[0m\u001b[1;38;2;123;132;132m●\u001b[0m\u001b[1;38;2;123;132;132m●\u001b[0m\u001b[1;38;2;123;132;132m●\u001b[0m\u001b[1;38;2;123;132;132m●\u001b[0m\u001b[1;38;2;123;132;132m●\u001b[0m\u001b[1;38;2;123;132;132m●\u001b[0m\u001b[1;38;2;123;132;132m●\u001b[0m\u001b[1;38;2;123;132;132m●\u001b[0m\u001b[1;38;2;85;170;170m●\u001b[0m\u001b[1;38;2;123;132;132m●\u001b[0m\u001b[1;38;2;123;132;132m●\u001b[0m\u001b[1;38;2;123;132;132m●\u001b[0m\u001b[1;38;2;123;132;132m●\u001b[0m\u001b[1;38;2;123;132;132m●\u001b[0m\u001b[1;38;2;123;132;132m●\u001b[0m\u001b[1;38;2;123;132;132m●\u001b[0m\u001b[1;38;2;123;132;132m●\u001b[0m\u001b[1;38;2;123;132;132m●\u001b[0m\n",
      "\u001b[1;38;2;123;132;132m●\u001b[0m\u001b[1;38;2;123;132;132m●\u001b[0m\u001b[1;38;2;123;132;132m●\u001b[0m\u001b[1;38;2;123;132;132m●\u001b[0m\u001b[1;38;2;123;132;132m●\u001b[0m\u001b[1;38;2;123;132;132m●\u001b[0m\u001b[1;38;2;123;132;132m●\u001b[0m\u001b[1;38;2;123;132;132m●\u001b[0m\u001b[1;38;2;85;170;170m●\u001b[0m\u001b[1;38;2;85;170;170m●\u001b[0m\u001b[1;38;2;85;170;170m●\u001b[0m\u001b[1;38;2;123;132;132m●\u001b[0m\u001b[1;38;2;123;132;132m●\u001b[0m\u001b[1;38;2;123;132;132m●\u001b[0m\u001b[1;38;2;123;132;132m●\u001b[0m\u001b[1;38;2;123;132;132m●\u001b[0m\u001b[1;38;2;123;132;132m●\u001b[0m\u001b[1;38;2;123;132;132m●\u001b[0m\u001b[1;38;2;123;132;132m●\u001b[0m\n",
      "\u001b[1;38;2;123;132;132m●\u001b[0m\u001b[1;38;2;123;132;132m●\u001b[0m\u001b[1;38;2;123;132;132m●\u001b[0m\u001b[1;38;2;123;132;132m●\u001b[0m\u001b[1;38;2;123;132;132m●\u001b[0m\u001b[1;38;2;123;132;132m●\u001b[0m\u001b[1;38;2;123;132;132m●\u001b[0m\u001b[1;38;2;85;170;170m●\u001b[0m\u001b[1;38;2;85;170;170m●\u001b[0m\u001b[1;38;2;123;132;132m●\u001b[0m\u001b[1;38;2;85;170;170m●\u001b[0m\u001b[1;38;2;85;170;170m●\u001b[0m\u001b[1;38;2;123;132;132m●\u001b[0m\u001b[1;38;2;123;132;132m●\u001b[0m\u001b[1;38;2;123;132;132m●\u001b[0m\u001b[1;38;2;123;132;132m●\u001b[0m\u001b[1;38;2;123;132;132m●\u001b[0m\u001b[1;38;2;123;132;132m●\u001b[0m\u001b[1;38;2;123;132;132m●\u001b[0m\n",
      "\u001b[1;38;2;123;132;132m●\u001b[0m\u001b[1;38;2;123;132;132m●\u001b[0m\u001b[1;38;2;123;132;132m●\u001b[0m\u001b[1;38;2;123;132;132m●\u001b[0m\u001b[1;38;2;123;132;132m●\u001b[0m\u001b[1;38;2;123;132;132m●\u001b[0m\u001b[1;38;2;85;170;170m●\u001b[0m\u001b[1;38;2;85;170;170m●\u001b[0m\u001b[1;38;2;123;132;132m●\u001b[0m\u001b[1;38;2;123;132;132m●\u001b[0m\u001b[1;38;2;123;132;132m●\u001b[0m\u001b[1;38;2;85;170;170m●\u001b[0m\u001b[1;38;2;85;170;170m●\u001b[0m\u001b[1;38;2;123;132;132m●\u001b[0m\u001b[1;38;2;123;132;132m●\u001b[0m\u001b[1;38;2;123;132;132m●\u001b[0m\u001b[1;38;2;123;132;132m●\u001b[0m\u001b[1;38;2;123;132;132m●\u001b[0m\u001b[1;38;2;123;132;132m●\u001b[0m\n",
      "\u001b[1;38;2;123;132;132m●\u001b[0m\u001b[1;38;2;123;132;132m●\u001b[0m\u001b[1;38;2;123;132;132m●\u001b[0m\u001b[1;38;2;123;132;132m●\u001b[0m\u001b[1;38;2;123;132;132m●\u001b[0m\u001b[1;38;2;85;170;170m●\u001b[0m\u001b[1;38;2;85;170;170m●\u001b[0m\u001b[1;38;2;85;170;170m●\u001b[0m\u001b[1;38;2;85;170;170m●\u001b[0m\u001b[1;38;2;85;170;170m●\u001b[0m\u001b[1;38;2;85;170;170m●\u001b[0m\u001b[1;38;2;85;170;170m●\u001b[0m\u001b[1;38;2;85;170;170m●\u001b[0m\u001b[1;38;2;85;170;170m●\u001b[0m\u001b[1;38;2;123;132;132m●\u001b[0m\u001b[1;38;2;123;132;132m●\u001b[0m\u001b[1;38;2;123;132;132m●\u001b[0m\u001b[1;38;2;123;132;132m●\u001b[0m\u001b[1;38;2;123;132;132m●\u001b[0m\n",
      "\u001b[1;38;2;123;132;132m●\u001b[0m\u001b[1;38;2;123;132;132m●\u001b[0m\u001b[1;38;2;123;132;132m●\u001b[0m\u001b[1;38;2;123;132;132m●\u001b[0m\u001b[1;38;2;85;170;170m●\u001b[0m\u001b[1;38;2;85;170;170m●\u001b[0m\u001b[1;38;2;123;132;132m●\u001b[0m\u001b[1;38;2;123;132;132m●\u001b[0m\u001b[1;38;2;123;132;132m●\u001b[0m\u001b[1;38;2;123;132;132m●\u001b[0m\u001b[1;38;2;123;132;132m●\u001b[0m\u001b[1;38;2;123;132;132m●\u001b[0m\u001b[1;38;2;123;132;132m●\u001b[0m\u001b[1;38;2;85;170;170m●\u001b[0m\u001b[1;38;2;85;170;170m●\u001b[0m\u001b[1;38;2;123;132;132m●\u001b[0m\u001b[1;38;2;123;132;132m●\u001b[0m\u001b[1;38;2;123;132;132m●\u001b[0m\u001b[1;38;2;123;132;132m●\u001b[0m\n",
      "\u001b[1;38;2;123;132;132m●\u001b[0m\u001b[1;38;2;123;132;132m●\u001b[0m\u001b[1;38;2;123;132;132m●\u001b[0m\u001b[1;38;2;85;170;170m●\u001b[0m\u001b[1;38;2;85;170;170m●\u001b[0m\u001b[1;38;2;123;132;132m●\u001b[0m\u001b[1;38;2;123;132;132m●\u001b[0m\u001b[1;38;2;123;132;132m●\u001b[0m\u001b[1;38;2;123;132;132m●\u001b[0m\u001b[1;38;2;123;132;132m●\u001b[0m\u001b[1;38;2;123;132;132m●\u001b[0m\u001b[1;38;2;123;132;132m●\u001b[0m\u001b[1;38;2;123;132;132m●\u001b[0m\u001b[1;38;2;123;132;132m●\u001b[0m\u001b[1;38;2;85;170;170m●\u001b[0m\u001b[1;38;2;85;170;170m●\u001b[0m\u001b[1;38;2;123;132;132m●\u001b[0m\u001b[1;38;2;123;132;132m●\u001b[0m\u001b[1;38;2;123;132;132m●\u001b[0m\n",
      "\u001b[1;38;2;123;132;132m●\u001b[0m\u001b[1;38;2;123;132;132m●\u001b[0m\u001b[1;38;2;123;132;132m●\u001b[0m\u001b[1;38;2;123;132;132m●\u001b[0m\u001b[1;38;2;123;132;132m●\u001b[0m\u001b[1;38;2;123;132;132m●\u001b[0m\u001b[1;38;2;123;132;132m●\u001b[0m\u001b[1;38;2;123;132;132m●\u001b[0m\u001b[1;38;2;123;132;132m●\u001b[0m\u001b[1;38;2;123;132;132m●\u001b[0m\u001b[1;38;2;123;132;132m●\u001b[0m\u001b[1;38;2;123;132;132m●\u001b[0m\u001b[1;38;2;123;132;132m●\u001b[0m\u001b[1;38;2;123;132;132m●\u001b[0m\u001b[1;38;2;123;132;132m●\u001b[0m\u001b[1;38;2;123;132;132m●\u001b[0m\u001b[1;38;2;123;132;132m●\u001b[0m\u001b[1;38;2;123;132;132m●\u001b[0m\u001b[1;38;2;123;132;132m●\u001b[0m\n"
     ]
    }
   ],
   "source": [
    "class ComputerColor:\n",
    "    def __str__(self) -> str:\n",
    "        raise ValueError()\n",
    "\n",
    "    def __repr__(self) -> str:\n",
    "        pass\n",
    "    \n",
    "    def __eq__(self, o: object) -> bool:\n",
    "        pass\n",
    "\n",
    "    def __add__(self, other) -> \"ComputerColor\":\n",
    "        pass\n",
    "\n",
    "    def __mul__(self, other) -> \"ComputerColor\":\n",
    "        pass\n",
    "\n",
    "    def __rmul__(self, other) -> \"ComputerColor\":\n",
    "        pass\n",
    "\n",
    "    def __hash__(self, other) -> int:\n",
    "        pass\n",
    "\n",
    "\n",
    "\n",
    "class RGBColor(ComputerColor):\n",
    "    END = '\\033[0'\n",
    "    START = '\\033[1;38;2'\n",
    "    MOD = 'm'\n",
    "    def __init__(self, *args):\n",
    "        self.rgb = tuple(map(self._normalize, args))\n",
    "        \n",
    "    def __repr__(self) -> str:\n",
    "        return f'{self.START};{self.rgb[0]};{self.rgb[1]};{self.rgb[2]}{self.MOD}●{self.END}{self.MOD}'\n",
    "\n",
    "    def __eq__(self, other):\n",
    "        if not isinstance(other, self.__class__):\n",
    "            return False\n",
    "        return self.rgb == other.rgb\n",
    "    \n",
    "    def __hash__(self):\n",
    "         return hash(self.rgb)\n",
    "    \n",
    "    def __add__(self, other):\n",
    "        return Color(self.rgb[0] + other.rgb[0]\n",
    "                     ,self.rgb[1] + other.rgb[1]\n",
    "                     ,self.rgb[2] + other.rgb[2])\n",
    "    \n",
    "        \n",
    "    def __mul__(self, c: float):\n",
    "        if c < 0 or c > 1:\n",
    "            raise ValueError(\"c should be between 0 and 1\")\n",
    "        cl = -256 * (1 - c)\n",
    "        F = (259 * (cl + 255)) / (255 * (259 - cl))\n",
    "        \n",
    "        return Color(\n",
    "             int(F * (self.rgb[0] - 128) + 128)\n",
    "            ,int(F * (self.rgb[1] - 128) + 128)\n",
    "            ,int(F * (self.rgb[2] - 128) + 128)\n",
    "        )\n",
    "    \n",
    "    def __rmul__(self, c: float):\n",
    "        return self.__mul__(c)\n",
    "        \n",
    "    def _normalize(self, color_level: int) -> int:\n",
    "        return max(min(color_level, 255), 0)\n",
    "\n",
    "\n",
    "class HSBColor(ComputerColor):\n",
    "    pass\n",
    "\n",
    "\n",
    "def print_a(color: ComputerColor):\n",
    "    bg_color = 0.2 * color\n",
    "    a_matrix = [\n",
    "        [bg_color] * 19,\n",
    "        [bg_color] * 9 + [color] + [bg_color] * 9,\n",
    "        [bg_color] * 8 + [color] * 3 + [bg_color] * 8,\n",
    "        [bg_color] * 7 + [color] * 2 + [bg_color] + [color] * 2 + [bg_color] * 7,\n",
    "        [bg_color] * 6 + [color] * 2 + [bg_color] * 3 + [color] * 2 + [bg_color] * 6,\n",
    "        [bg_color] * 5 + [color] * 9 + [bg_color] * 5,\n",
    "        [bg_color] * 4 + [color] * 2 + [bg_color] * 7 + [color] * 2 + [bg_color] * 4,\n",
    "        [bg_color] * 3 + [color] * 2 + [bg_color] * 9 + [color] * 2 + [bg_color] * 3,\n",
    "        [bg_color] * 19,\n",
    "    ]\n",
    "    for row in a_matrix:\n",
    "        print(\"\".join(str(ptr) for ptr in row))\n",
    "\n",
    "\n",
    "if __name__ == \"__main__\":\n",
    "    red = ComputerColor()\n",
    "    green = Color(0, 255, 0)\n",
    "    blue = Color(0, 0, 255)\n",
    "\n",
    "    print_a(0.5 * (green + blue))"
   ]
  }
 ],
 "metadata": {
  "kernelspec": {
   "display_name": "Python 3",
   "language": "python",
   "name": "python3"
  },
  "language_info": {
   "codemirror_mode": {
    "name": "ipython",
    "version": 3
   },
   "file_extension": ".py",
   "mimetype": "text/x-python",
   "name": "python",
   "nbconvert_exporter": "python",
   "pygments_lexer": "ipython3",
   "version": "3.8.8"
  }
 },
 "nbformat": 4,
 "nbformat_minor": 5
}
