{
 "cells": [
  {
   "cell_type": "code",
   "execution_count": 36,
   "id": "c68511c1",
   "metadata": {},
   "outputs": [],
   "source": [
    "from abc import ABC, abstractmethod\n",
    "class AnimeMon(ABC):\n",
    "    \n",
    "    @abstractmethod\n",
    "    def __init__(self, exp):\n",
    "        self.__exp = exp\n",
    "    \n",
    "    @abstractmethod\n",
    "    def inc_exp(self, value: int):\n",
    "        self._exp += value\n",
    "        \n",
    "    @property\n",
    "    @abstractmethod\n",
    "    def exp(AnimeMon):\n",
    "        return self._exp\n",
    "    @exp.setter\n",
    "    @abstractmethod\n",
    "    def exp(self, val):\n",
    "        self._exp=val"
   ]
  },
  {
   "cell_type": "code",
   "execution_count": 37,
   "id": "5221703c",
   "metadata": {},
   "outputs": [],
   "source": [
    "class Pokemon(AnimeMon):\n",
    "    def __init__(self, name: str, poketype='', exp=0):\n",
    "        self.name = name\n",
    "        self.poketype = poketype\n",
    "        self._exp = exp\n",
    "    def to_str(self):\n",
    "        return f'{self.name}/{self.poketype}'\n",
    "    def inc_exp(self, value: int):\n",
    "        self._exp += value\n",
    "    @property\n",
    "    def exp(self):\n",
    "        return self._exp\n",
    "    @exp.setter\n",
    "    def exp(self, val):\n",
    "        self._exp=val"
   ]
  },
  {
   "cell_type": "code",
   "execution_count": 38,
   "id": "1ef7221a",
   "metadata": {},
   "outputs": [
    {
     "name": "stdout",
     "output_type": "stream",
     "text": [
      "60\n"
     ]
    }
   ],
   "source": [
    "import random\n",
    "def train(pokemon: Pokemon):\n",
    "    step_size, level_size = 10, 100\n",
    "    sparring_qty = (level_size - pokemon.exp % level_size) // step_size\n",
    "    for i in range(sparring_qty):\n",
    "        win = random.choice([True, False])\n",
    "        if win:\n",
    "            pokemon.inc_exp(step_size)\n",
    "bulbasaur = Pokemon(name='Bulbasaur', poketype='grass')\n",
    "train(bulbasaur)\n",
    "print(bulbasaur.exp)"
   ]
  },
  {
   "cell_type": "code",
   "execution_count": 39,
   "id": "f38ebaaa",
   "metadata": {},
   "outputs": [],
   "source": [
    "class Digimon(Pokemon):\n",
    "    def __init__(self, name: str):\n",
    "         super().__init__(name)\n",
    "    def inc_exp(self, value: int):\n",
    "        self._exp += value * 8\n",
    "    @property\n",
    "    def exp(self):\n",
    "        return self._exp\n",
    "    @exp.setter\n",
    "    def exp(self, val):\n",
    "        self._exp=val"
   ]
  },
  {
   "cell_type": "code",
   "execution_count": 40,
   "id": "5edbc67e",
   "metadata": {},
   "outputs": [
    {
     "name": "stdout",
     "output_type": "stream",
     "text": [
      "320\n"
     ]
    }
   ],
   "source": [
    "agumon = Digimon(name='Agumon')\n",
    "train(agumon)\n",
    "print(agumon.exp)"
   ]
  }
 ],
 "metadata": {
  "kernelspec": {
   "display_name": "Python 3",
   "language": "python",
   "name": "python3"
  },
  "language_info": {
   "codemirror_mode": {
    "name": "ipython",
    "version": 3
   },
   "file_extension": ".py",
   "mimetype": "text/x-python",
   "name": "python",
   "nbconvert_exporter": "python",
   "pygments_lexer": "ipython3",
   "version": "3.8.8"
  }
 },
 "nbformat": 4,
 "nbformat_minor": 5
}
